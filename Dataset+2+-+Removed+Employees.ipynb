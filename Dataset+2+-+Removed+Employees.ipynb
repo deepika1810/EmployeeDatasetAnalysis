{
 "cells": [
  {
   "cell_type": "code",
   "execution_count": 15,
   "metadata": {
    "collapsed": true
   },
   "outputs": [],
   "source": [
    "import pandas as pd\n",
    "import numpy as np\n",
    "#np.set_printoptions(linewidth=120)\n",
    "#np.set_printoptions(threshold=np.nan)\n",
    "#pd.set_option('display.max_row', 1000)\n",
    "#pd.options.display.max_colwidth = 500"
   ]
  },
  {
   "cell_type": "code",
   "execution_count": 16,
   "metadata": {
    "collapsed": true
   },
   "outputs": [],
   "source": [
    "employees_start = pd.read_csv(\"/Users/deepikamulchandani/Downloads/DataSets2_10012017/LDAP/2009-12.csv\")\n",
    "employees_end = pd.read_csv(\"/Users/deepikamulchandani/Downloads/DataSets2_10012017/LDAP/2011-05.csv\")"
   ]
  },
  {
   "cell_type": "code",
   "execution_count": 17,
   "metadata": {
    "collapsed": true
   },
   "outputs": [],
   "source": [
    "employees_left = employees_start.merge(employees_end, indicator=True, how='outer')\n",
    "employees_removed=employees_left[employees_left['_merge'] == 'left_only']\n",
    "del employees_removed['_merge']"
   ]
  },
  {
   "cell_type": "code",
   "execution_count": 21,
   "metadata": {},
   "outputs": [
    {
     "data": {
      "text/plain": [
       "155"
      ]
     },
     "execution_count": 21,
     "metadata": {},
     "output_type": "execute_result"
    }
   ],
   "source": [
    "employees_removed.shape[0]"
   ]
  },
  {
   "cell_type": "code",
   "execution_count": 22,
   "metadata": {
    "collapsed": true
   },
   "outputs": [],
   "source": [
    "employees_removed.to_csv(\"/Users/deepikamulchandani/Downloads/DataSets2_10012017/LDAP/Employees_removed.csv\")"
   ]
  },
  {
   "cell_type": "code",
   "execution_count": null,
   "metadata": {
    "collapsed": true
   },
   "outputs": [],
   "source": []
  }
 ],
 "metadata": {
  "kernelspec": {
   "display_name": "Python 2",
   "language": "python",
   "name": "python2"
  },
  "language_info": {
   "codemirror_mode": {
    "name": "ipython",
    "version": 2
   },
   "file_extension": ".py",
   "mimetype": "text/x-python",
   "name": "python",
   "nbconvert_exporter": "python",
   "pygments_lexer": "ipython2",
   "version": "2.7.14"
  }
 },
 "nbformat": 4,
 "nbformat_minor": 2
}
